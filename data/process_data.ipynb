{
 "cells": [
  {
   "cell_type": "code",
   "execution_count": 1,
   "metadata": {},
   "outputs": [],
   "source": [
    "import torch\n",
    "import pandas as pd\n",
    "import numpy as np\n",
    "import time\n",
    "from tqdm import tqdm"
   ]
  },
  {
   "cell_type": "code",
   "execution_count": 2,
   "metadata": {},
   "outputs": [],
   "source": [
    "NUM_MARKS = 10\n",
    "AGG_TYPE = ['month', 'week', 'day', 'hour', 0.9999, 0.9998, 0.9997, 0.9996, 0.9995, 0.999] \n",
    "PRE_NUM_MARKS = [10, 11, 11, 11, 10, 10, 10, 10, 10, 10]"
   ]
  },
  {
   "cell_type": "code",
   "execution_count": 3,
   "metadata": {},
   "outputs": [],
   "source": [
    "# Unzip the data files\n",
    "# ! unzip 94102.zip -d energy_94102/\n",
    "# ! unzip 94103.zip -d energy_94103/\n",
    "# ! unzip 94104.zip -d energy_94104/\n",
    "# ! unzip 94105.zip -d energy_94105/"
   ]
  },
  {
   "cell_type": "code",
   "execution_count": 3,
   "metadata": {},
   "outputs": [],
   "source": [
    "DATA_FOLDERS = [f\"./energy_{str(94102+i)}/\" for i in range(4)]"
   ]
  },
  {
   "cell_type": "code",
   "execution_count": 4,
   "metadata": {},
   "outputs": [
    {
     "data": {
      "text/plain": [
       "['./energy_94102/', './energy_94103/', './energy_94104/', './energy_94105/']"
      ]
     },
     "execution_count": 4,
     "metadata": {},
     "output_type": "execute_result"
    }
   ],
   "source": [
    "DATA_FOLDERS"
   ]
  },
  {
   "cell_type": "code",
   "execution_count": 5,
   "metadata": {},
   "outputs": [],
   "source": [
    "import glob\n",
    "\n",
    "data = []\n",
    "for directory in DATA_FOLDERS:\n",
    "    for filepath in glob.iglob(f'{directory}*.csv'):\n",
    "        data.append( pd.read_csv(filepath) )"
   ]
  },
  {
   "cell_type": "code",
   "execution_count": 6,
   "metadata": {},
   "outputs": [],
   "source": [
    "def to_float(x):\n",
    "    try:\n",
    "        return float(x)\n",
    "    except ValueError:\n",
    "        return -100."
   ]
  },
  {
   "cell_type": "code",
   "execution_count": 7,
   "metadata": {},
   "outputs": [],
   "source": [
    "for i in range(len(data)):\n",
    "    data[i].rename(columns={'Unnamed: 0': 'time'}, inplace=True)\n",
    "    data[i]['time'] = pd.to_datetime(data[i]['time'])\n",
    "    data[i]['energykWh'] = data[i]['energykWh'].apply(to_float)\n",
    "    data[i] = data[i].loc[:, ['time', 'energykWh']]"
   ]
  },
  {
   "cell_type": "code",
   "execution_count": 8,
   "metadata": {},
   "outputs": [
    {
     "name": "stdout",
     "output_type": "stream",
     "text": [
      "Before discard:  201\n",
      "After discard:  191\n"
     ]
    }
   ],
   "source": [
    "print(\"Before discard: \", len(data))\n",
    "data = [d for d in data if sum(d['energykWh']==0)/len(d) < AGG_TYPE[-1]]\n",
    "print(\"After discard: \", len(data))"
   ]
  },
  {
   "cell_type": "code",
   "execution_count": 9,
   "metadata": {},
   "outputs": [],
   "source": [
    "num_na = []\n",
    "na_ratio = []\n",
    "contains_na = []\n",
    "for i in range(len(data)):\n",
    "    num_na.append((data[i]['energykWh']==-100).sum())\n",
    "    na_ratio.append( num_na[-1] / len(data[i]['energykWh']) )\n",
    "    contains_na.append(num_na[-1]>0)"
   ]
  },
  {
   "cell_type": "code",
   "execution_count": 10,
   "metadata": {},
   "outputs": [
    {
     "name": "stdout",
     "output_type": "stream",
     "text": [
      "182 out of 191 files contain NA values)\n",
      "Mean number of NA 9.8 (18.5)\n",
      "Mean number of NA Ratio 0.0001 (0.0002)\n"
     ]
    }
   ],
   "source": [
    "print(f\"{sum(contains_na)} out of {len(data)} files contain NA values)\")\n",
    "print(f\"Mean number of NA {np.mean(num_na):.1f} ({np.std(num_na):.1f})\")\n",
    "print(f\"Mean number of NA Ratio {np.mean(na_ratio):.4f} ({np.std(na_ratio):.4f})\")"
   ]
  },
  {
   "cell_type": "code",
   "execution_count": 11,
   "metadata": {},
   "outputs": [
    {
     "name": "stdout",
     "output_type": "stream",
     "text": [
      "True\n"
     ]
    }
   ],
   "source": [
    "# Check whether files are sorted by time\n",
    "data_sorted = []\n",
    "for d in data:\n",
    "    data_sorted.append( np.all(d['time'].values[:-1] <= d['time'].values[1:]) )\n",
    "print(all(data_sorted))"
   ]
  },
  {
   "cell_type": "code",
   "execution_count": 12,
   "metadata": {},
   "outputs": [
    {
     "name": "stderr",
     "output_type": "stream",
     "text": [
      "100%|██████████| 191/191 [00:02<00:00, 92.83it/s]\n",
      "100%|██████████| 191/191 [00:51<00:00,  3.72it/s]\n",
      "100%|██████████| 191/191 [00:08<00:00, 22.27it/s]\n",
      "100%|██████████| 191/191 [02:42<00:00,  1.17it/s]\n"
     ]
    }
   ],
   "source": [
    "data_agg = {}\n",
    "\n",
    "for agg in AGG_TYPE[:4]:\n",
    "    data_agg[agg] = []\n",
    "    for i in tqdm(range(len(data))):\n",
    "        if agg == 'month':\n",
    "            data_agg[agg].append( data[i].loc[data[i].groupby([data[i]['time'].dt.year, data[i]['time'].dt.month])['energykWh'].idxmax()] )\n",
    "        elif agg == 'week':\n",
    "            data_agg[agg].append( data[i].loc[data[i].groupby([data[i]['time'].dt.year, data[i]['time'].dt.month, data[i]['time'].dt.strftime('%W')])['energykWh'].idxmax()] )\n",
    "        elif agg == 'day':\n",
    "            data_agg[agg].append( data[i].loc[data[i].groupby([data[i]['time'].dt.year, data[i]['time'].dt.month, data[i]['time'].dt.day])['energykWh'].idxmax()] )\n",
    "        elif agg == 'hour':\n",
    "            data_agg[agg].append( data[i].loc[data[i].groupby([data[i]['time'].dt.year, data[i]['time'].dt.month, data[i]['time'].dt.day, data[i]['time'].dt.hour])['energykWh'].idxmax()] )"
   ]
  },
  {
   "cell_type": "code",
   "execution_count": 13,
   "metadata": {},
   "outputs": [],
   "source": [
    "def get_peaks_by_quantile(arr, q):\n",
    "    q_val = np.quantile(arr, q)\n",
    "    if q_val == 0:\n",
    "        raise ValueError(\"Quantile value is 0\")\n",
    "    else:\n",
    "        return np.where(arr >= q_val)[0]"
   ]
  },
  {
   "cell_type": "code",
   "execution_count": 14,
   "metadata": {},
   "outputs": [],
   "source": [
    "for agg in AGG_TYPE[4:]:\n",
    "    data_agg[agg] = []\n",
    "    for i in range(len(data)):\n",
    "        peak_idx = get_peaks_by_quantile( data[i]['energykWh'].values, agg )\n",
    "        if len(peak_idx) == 0:\n",
    "            continue\n",
    "        else:\n",
    "            data_agg[agg].append( data[i].iloc[peak_idx] )\n",
    "        "
   ]
  },
  {
   "cell_type": "code",
   "execution_count": 17,
   "metadata": {},
   "outputs": [
    {
     "data": {
      "text/plain": [
       "356.717277486911"
      ]
     },
     "execution_count": 17,
     "metadata": {},
     "output_type": "execute_result"
    }
   ],
   "source": [
    "np.mean([len(data_agg[0.9996][i]) for i in range(len(data_agg[0.9996]))])"
   ]
  },
  {
   "cell_type": "code",
   "execution_count": 18,
   "metadata": {},
   "outputs": [],
   "source": [
    "# Create labels\n",
    "raw_labels = {}\n",
    "\n",
    "for agg in AGG_TYPE:\n",
    "    raw_labels[agg] = []\n",
    "    for i in range(len(data_agg[agg])):\n",
    "        raw_labels[agg].append(data_agg[agg][i]['energykWh'].values)"
   ]
  },
  {
   "cell_type": "code",
   "execution_count": 19,
   "metadata": {},
   "outputs": [
    {
     "name": "stdout",
     "output_type": "stream",
     "text": [
      "month\n",
      "week\n",
      "day\n",
      "hour\n",
      "0.9999\n",
      "0.9998\n",
      "0.9997\n",
      "0.9996\n",
      "0.9995\n",
      "0.999\n"
     ]
    }
   ],
   "source": [
    "boundry_values = {}\n",
    "\n",
    "for idx, agg in enumerate(AGG_TYPE):\n",
    "    rl = np.concatenate(raw_labels[agg])\n",
    "    rl = [_rl for _rl in rl if _rl != -100.]\n",
    "    print(agg)\n",
    "    boundry = [arr[0] for arr in np.array_split(np.arange(len(rl)), PRE_NUM_MARKS[idx])]\n",
    "    boundry_values[agg] = np.sort(rl)[boundry][-NUM_MARKS:]\n",
    "    boundry_values[agg] = np.append(boundry_values[agg], np.inf)\n",
    "    if agg == 'hour':\n",
    "        boundry_values[agg] = np.concatenate([[-101.],boundry_values[agg]])\n",
    "    "
   ]
  },
  {
   "cell_type": "code",
   "execution_count": 20,
   "metadata": {},
   "outputs": [],
   "source": [
    "marks = {}\n",
    "for agg in AGG_TYPE:\n",
    "    marks[agg] = []\n",
    "    for i in range(len(data_agg[agg])):\n",
    "        offset = 2 if agg == 'hour' else 1\n",
    "        marks[agg].append( np.digitize(raw_labels[agg][i], boundry_values[agg] ) - offset )\n",
    "        "
   ]
  },
  {
   "cell_type": "code",
   "execution_count": 21,
   "metadata": {},
   "outputs": [],
   "source": [
    "# Impute missing\n",
    "rng = np.random.default_rng(seed=123)\n",
    "\n",
    "for m in marks['hour']:\n",
    "    for i in range(len(m)):\n",
    "        if m[i] == -1:\n",
    "            neighbors = []\n",
    "            for j in range(i-1, -1, -1):\n",
    "                if m[j] != -1:\n",
    "                    neighbors.append(m[j])\n",
    "                    break\n",
    "            for j in range(i+1, len(m)):\n",
    "                if m[j] != -1:\n",
    "                    neighbors.append(m[j])\n",
    "                    break\n",
    "            m[i] = rng.choice(neighbors)"
   ]
  },
  {
   "cell_type": "code",
   "execution_count": 27,
   "metadata": {},
   "outputs": [
    {
     "name": "stderr",
     "output_type": "stream",
     "text": [
      "100%|██████████| 191/191 [00:00<00:00, 1465.07it/s]\n",
      "100%|██████████| 191/191 [00:00<00:00, 1054.16it/s]\n",
      "100%|██████████| 191/191 [00:00<00:00, 241.90it/s]\n",
      "100%|██████████| 191/191 [00:19<00:00,  9.77it/s]\n",
      "100%|██████████| 191/191 [00:00<00:00, 3346.67it/s]\n",
      "100%|██████████| 191/191 [00:00<00:00, 2957.68it/s]\n",
      "100%|██████████| 191/191 [00:00<00:00, 2580.40it/s]\n",
      "100%|██████████| 191/191 [00:00<00:00, 361.95it/s]\n",
      "100%|██████████| 191/191 [00:00<00:00, 498.16it/s]\n",
      "100%|██████████| 191/191 [00:00<00:00, 315.84it/s]\n"
     ]
    }
   ],
   "source": [
    "rng = np.random.default_rng(seed=1234)\n",
    "\n",
    "dataset = {}\n",
    "\n",
    "for agg in AGG_TYPE:\n",
    "    dataset[agg] = {}\n",
    "    dataset[agg]['sequences'] = []\n",
    "    dataset[agg]['num_marks'] = NUM_MARKS\n",
    "    \n",
    "    for i in tqdm(range(len(data_agg[agg]))):\n",
    "        sequence = {}\n",
    "        sequence['arrival_times'] = data_agg[agg][i]['time'].apply(lambda x: time.mktime(x.timetuple())).values\n",
    "        sequence['marks'] = marks[agg][i]\n",
    "        sequence['energykWh'] = data_agg[agg][i]['energykWh'].values\n",
    "        assert len(sequence['arrival_times']) == len(sequence['marks'])\n",
    "        sequence['t_start'] = time.mktime(data[i]['time'].iloc[0].timetuple()) - 900\n",
    "        sequence['t_end'] = time.mktime(data[i]['time'].iloc[-1].timetuple()) + 900\n",
    "        sample_flag = True\n",
    "        arrival_times = None\n",
    "        while sample_flag:\n",
    "            arrival_times = sequence['arrival_times'] + rng.normal(0, 60, len(sequence['arrival_times']))\n",
    "            sample_flag = not( sequence['t_start'] < arrival_times[0] <= arrival_times[-1] < sequence['t_end'] )\n",
    "            # print(sequence['t_start'], arrival_times[0], arrival_times[-1], sequence['t_end'])\n",
    "            # print(sample_flag)\n",
    "        \n",
    "        dataset[agg]['sequences'].append(sequence)"
   ]
  },
  {
   "cell_type": "code",
   "execution_count": 28,
   "metadata": {},
   "outputs": [],
   "source": [
    "for agg in AGG_TYPE:\n",
    "    torch.save(dataset[agg], f'./energy_{agg}.pkl')"
   ]
  },
  {
   "cell_type": "markdown",
   "metadata": {},
   "source": []
  },
  {
   "cell_type": "code",
   "execution_count": 29,
   "metadata": {},
   "outputs": [],
   "source": [
    "dd = torch.load(\"energy_0.9996.pkl\")"
   ]
  },
  {
   "cell_type": "code",
   "execution_count": 31,
   "metadata": {},
   "outputs": [
    {
     "data": {
      "text/plain": [
       "{'arrival_times': array([1.4284161e+09, 1.4328207e+09, 1.4471703e+09, 1.4477778e+09,\n",
       "        1.4489811e+09, 1.4489820e+09, 1.4489856e+09, 1.4489865e+09,\n",
       "        1.4489874e+09, 1.4489883e+09, 1.4489892e+09, 1.4489901e+09,\n",
       "        1.4489910e+09, 1.4520132e+09, 1.4521806e+09, 1.4521815e+09,\n",
       "        1.4527863e+09, 1.4528016e+09, 1.4528025e+09, 1.4533065e+09,\n",
       "        1.4538339e+09, 1.4538348e+09, 1.4544198e+09, 1.4544297e+09,\n",
       "        1.4544306e+09, 1.4544333e+09, 1.4574528e+09, 1.4574537e+09,\n",
       "        1.4579712e+09, 1.4679054e+09, 1.4704020e+09, 1.4704029e+09,\n",
       "        1.4704038e+09]),\n",
       " 'marks': array([9, 9, 9, 9, 9, 9, 9, 9, 9, 9, 9, 9, 9, 9, 9, 9, 9, 9, 9, 9, 9, 9,\n",
       "        9, 9, 9, 9, 9, 9, 9, 9, 9, 9, 9]),\n",
       " 'energykWh': array([0.693, 0.717, 0.712, 0.786, 1.008, 0.8  , 0.803, 0.778, 0.771,\n",
       "        0.763, 0.772, 0.8  , 0.732, 0.731, 0.855, 0.831, 0.829, 0.799,\n",
       "        0.692, 0.721, 0.743, 0.78 , 0.684, 0.874, 0.817, 0.764, 0.708,\n",
       "        0.788, 0.689, 0.671, 0.827, 0.818, 0.799]),\n",
       " 't_start': 1398915900.0,\n",
       " 't_end': 1471838400.0}"
      ]
     },
     "execution_count": 31,
     "metadata": {},
     "output_type": "execute_result"
    }
   ],
   "source": [
    "dd['sequences'][1]"
   ]
  },
  {
   "cell_type": "code",
   "execution_count": null,
   "metadata": {},
   "outputs": [],
   "source": []
  },
  {
   "cell_type": "code",
   "execution_count": null,
   "metadata": {},
   "outputs": [],
   "source": []
  },
  {
   "cell_type": "code",
   "execution_count": null,
   "metadata": {},
   "outputs": [],
   "source": []
  }
 ],
 "metadata": {
  "kernelspec": {
   "display_name": "py311",
   "language": "python",
   "name": "python3"
  },
  "language_info": {
   "codemirror_mode": {
    "name": "ipython",
    "version": 3
   },
   "file_extension": ".py",
   "mimetype": "text/x-python",
   "name": "python",
   "nbconvert_exporter": "python",
   "pygments_lexer": "ipython3",
   "version": "3.11.4"
  }
 },
 "nbformat": 4,
 "nbformat_minor": 2
}
